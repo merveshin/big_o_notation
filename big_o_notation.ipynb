{
 "cells": [
  {
   "cell_type": "markdown",
   "metadata": {},
   "source": [
    "# BIG-O-NOTATION\n",
    "\n",
    "I would like to talk about the big o notation, which commonly considered as a scary topic for new ones in programming. I am also new in programming and want to share what I have learned so far. Sometimes we write an algorithm that turn out to be slow, but we have no idea why it’s slow. We need a way to measure how long our algorithm takes to run. "
   ]
  },
  {
   "cell_type": "markdown",
   "metadata": {},
   "source": [
    "### Anal_O_gy\n",
    "\n",
    "To see this, lets imagine that you want to watch an old movie but you don’t have it. So you have two options either you can download it but your internet connection is so weak and it will take 20 hours to download:( Or you can order it online and it will take 24 hours to be delivered. At first glance the first option may look better. However, what if you decide to watch 10 movies? Downloading 10 movies will take almost 200 hours! On the other hand, ordering 10 movies doesn’t change the delivering time and you will get all movies in 24 hours. The problem is blown up here. While ordering a movie takes constant time no matter how many movies we order, the time for downloading is linearly increasing depending on input size. The big o notation helps us at this point to understand how does our program depend on the value of N(The number of inputs). Suppose we have the following line of code:"
   ]
  },
  {
   "cell_type": "code",
   "execution_count": 5,
   "metadata": {},
   "outputs": [
    {
     "name": "stdout",
     "output_type": "stream",
     "text": [
      "20\n"
     ]
    }
   ],
   "source": [
    "N = 10\n",
    "print(2*N)"
   ]
  },
  {
   "cell_type": "markdown",
   "metadata": {},
   "source": [
    "What is the complexity of this? Does the running time of this line depend on the value of N? No. So, this takes constant time to run and its complexity is O(1). Lets look at another example:"
   ]
  },
  {
   "cell_type": "code",
   "execution_count": 6,
   "metadata": {},
   "outputs": [
    {
     "name": "stdout",
     "output_type": "stream",
     "text": [
      "45\n"
     ]
    }
   ],
   "source": [
    "b = 0;\n",
    "for i in range(N):\n",
    "     b += i\n",
    "print(b)"
   ]
  },
  {
   "cell_type": "markdown",
   "metadata": {},
   "source": [
    "Let’s look at the complexity of the above code.The line in the loop will run N times, so the running time is directly proportional to N and it’s complexity is O(N)."
   ]
  },
  {
   "cell_type": "markdown",
   "metadata": {},
   "source": [
    "To decide the complexity of an algorithm Big O notation follows some certain rules:"
   ]
  },
  {
   "cell_type": "markdown",
   "metadata": {},
   "source": [
    "### Rules\n",
    "\n",
    "##### 1. Ignore constants: \n",
    "\n",
    "Big O is looking for limiting behavior, as n gets larger,  the constants no longer matters.\n",
    "\n",
    "$O(10n + 5)= O(n)$ \n",
    "\n",
    "##### 2. Drop non-dominant terms: \n",
    "\n",
    "![](https://cdn-media-1.freecodecamp.org/images/1*KfZYFUT2OKfjekJlCeYvuQ.jpeg)\n",
    "\n",
    "The above graph shows the relation between the terms. So, whenever a high term exists, it dominates lower terms as n get bigger. Therefore, lower terms are not included in Big O notation.\n",
    "\n",
    "For example if we have $ O(10n^2 + 10n +5 )$ this will be simply $O(n^2)$"
   ]
  },
  {
   "cell_type": "markdown",
   "metadata": {},
   "source": [
    "If we have this piece of code \n",
    "\n",
    "```python\n",
    "for i in range(n):\n",
    "    for j in range(n): \n",
    "        print(i*j)\n",
    "```\n",
    "\n",
    "The inner loop will run N times for each i and the outer loop will run N times, so overall, the loop will run N² times. So, the complexity of the above code is O(N²)."
   ]
  },
  {
   "cell_type": "markdown",
   "metadata": {},
   "source": [
    "This is a kind of brief intro for big o notation, which is ahuge area. Remember that if there is a more efficient solution for the same problem, we should pursue that solution. And this graph will be a guiding light for us:"
   ]
  },
  {
   "cell_type": "markdown",
   "metadata": {},
   "source": [
    "![](https://img.devrant.com/devrant/rant/r_1858258_ixEjM.jpg)"
   ]
  },
  {
   "cell_type": "code",
   "execution_count": null,
   "metadata": {},
   "outputs": [],
   "source": []
  }
 ],
 "metadata": {
  "kernelspec": {
   "display_name": "Python 3",
   "language": "python",
   "name": "python3"
  },
  "language_info": {
   "codemirror_mode": {
    "name": "ipython",
    "version": 3
   },
   "file_extension": ".py",
   "mimetype": "text/x-python",
   "name": "python",
   "nbconvert_exporter": "python",
   "pygments_lexer": "ipython3",
   "version": "3.7.3"
  }
 },
 "nbformat": 4,
 "nbformat_minor": 2
}
